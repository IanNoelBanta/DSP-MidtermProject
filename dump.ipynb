{
 "cells": [
  {
   "cell_type": "code",
   "execution_count": null,
   "metadata": {},
   "outputs": [],
   "source": [
    "# Plot of Mean Median Mode\n",
    "\n",
    "def genCentralTendencies(x, y, z, title):\n",
    "\tfig, ax1 = plt.subplots(figsize=(5, 5))\n",
    "\n",
    "\tax1.plot(x, marker='o', markersize=5, color = 'red', label=\"Mean\")\n",
    "\tax1.plot(y, marker='x', markersize=5, color = 'blue', label=\"Median\")\n",
    "\tax1.plot(y, marker='^', markersize=5, color = 'yellow', label=\"Mode\")\n",
    "\n",
    "\tax1.set_xlabel('')\n",
    "\tax1.set_ylabel('Temperature')\n",
    "\t# ax1.tick_params(axis='y', labelcolor='tab:blue')\n",
    "\n",
    "\tax2 = ax1.twinx() \n",
    "\n",
    "\tax2.set_ylabel('Humidity')\t\n",
    "\n",
    "\tlines, labels = ax1.get_legend_handles_labels()\n",
    "\tlines2, labels2 = ax2.get_legend_handles_labels()\n",
    "\tax1.legend(lines + lines2, labels + labels2, loc='upper left')\n",
    "\n",
    "\t# plt.xticks(x_values,['October 17','October 18', 'October 19', 'October 20', 'October 21','October 22', 'October 23', 'October 24', 'October 25', 'October 26','October 27', 'October 28', 'October 29', 'October 30', 'October 31', 'November 1'])\n",
    " \n",
    "\tplt.title(\"Mean, Median, and Mode of \" + title)\n",
    "\tplt.grid()\n",
    "\tplt.show()"
   ]
  },
  {
   "cell_type": "code",
   "execution_count": null,
   "metadata": {},
   "outputs": [],
   "source": [
    "genCentralTendencies(genTempMean, genTempMedian, genTempMode, \"Temperature\")"
   ]
  },
  {
   "cell_type": "code",
   "execution_count": null,
   "metadata": {},
   "outputs": [],
   "source": [
    "def genRawPlotter(x, y, date):\n",
    "\tfig, ax1 = plt.subplots(figsize=(25, 5))\n",
    "\tx_values = [15, 96, 192, 288, 384, 480, 576, 672, 768, 864, 960, 1056, 1152, 1248, 1344, 1349]\n",
    "\n",
    "\tax1.scatter(date, x, marker='*', color = 'red', label=\"Temperature\")\n",
    "\n",
    "\tax1.set_xlabel('Date')\n",
    "\tax1.set_ylabel('Temperature')\n",
    "\t# ax1.tick_params(axis='y', labelcolor='tab:blue')\n",
    "\n",
    "\tax2 = ax1.twinx() \n",
    "\n",
    "\tax2.set_ylabel('Humidity')\n",
    "\tax2.scatter(date, y, marker='.', color = 'blue', label=\"Humid\")\t\n",
    "\t# ax1.tick_params(axis='y', labelcolor='tab:blue')\n",
    "\n",
    "\tlines, labels = ax1.get_legend_handles_labels()\n",
    "\tlines2, labels2 = ax2.get_legend_handles_labels()\n",
    "\tax1.legend(lines + lines2, labels + labels2, loc='upper left')\n",
    "\n",
    "\tplt.xticks(x_values,['October 17','October 18', 'October 19', 'October 20', 'October 21','October 22', 'October 23', 'October 24', 'October 25', 'October 26','October 27', 'October 28', 'October 29', 'October 30', 'October 31', 'November 1'])\n",
    " \n",
    "\tplt.title(\"Raw Data of Temperature and Humidity\")\n",
    "\tplt.grid()\n",
    "\tplt.show()\n",
    "\t\t"
   ]
  }
 ],
 "metadata": {
  "language_info": {
   "name": "python"
  }
 },
 "nbformat": 4,
 "nbformat_minor": 2
}
