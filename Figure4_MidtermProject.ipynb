{
 "cells": [
  {
   "cell_type": "markdown",
   "metadata": {},
   "source": [
    "# **Digital Signal Processing - Midterm Project**\n",
    "## **Submitted by:**\n",
    "| **Figure4 Members** |\n",
    "|   :----:    |\n",
    "| *Banta, Ian Noel M.*    |\n",
    "| *Pabelico, John Paul B.*  |\n",
    "| *Santander, Mark Adrian P.*   |\n",
    "| *Villasor, Vince Kazer M.*  |"
   ]
  },
  {
   "cell_type": "markdown",
   "metadata": {},
   "source": [
    "# **1. Libraries**"
   ]
  },
  {
   "cell_type": "code",
   "execution_count": 1,
   "metadata": {},
   "outputs": [],
   "source": [
    "import numpy as np\n",
    "import matplotlib.pyplot as plt\n",
    "import pandas as pd\n",
    "\n",
    "# pd.set_option(\"display.max_rows\", None)"
   ]
  },
  {
   "cell_type": "markdown",
   "metadata": {},
   "source": [
    "# **2. Data**"
   ]
  },
  {
   "cell_type": "markdown",
   "metadata": {},
   "source": [
    "## 2.1. Extraction"
   ]
  },
  {
   "cell_type": "code",
   "execution_count": 2,
   "metadata": {},
   "outputs": [],
   "source": [
    "dateDF = pd.read_excel(\"Figure4_MidtermProject_Data.xlsx\", \"Sheet1\", skiprows=0, nrows= 1350, usecols=\"A\")\n",
    "humiDF = pd.read_excel(\"Figure4_MidtermProject_Data.xlsx\", \"Sheet1\", skiprows=0, nrows= 1350, usecols=\"B\")\n",
    "tempDF = pd.read_excel(\"Figure4_MidtermProject_Data.xlsx\", \"Sheet1\", skiprows=0, nrows= 1350, usecols=\"C\")"
   ]
  },
  {
   "cell_type": "markdown",
   "metadata": {},
   "source": [
    "## 2.2. Transformation"
   ]
  },
  {
   "cell_type": "markdown",
   "metadata": {},
   "source": [
    "### 2.2.1. Data Imputation"
   ]
  },
  {
   "cell_type": "code",
   "execution_count": 3,
   "metadata": {},
   "outputs": [],
   "source": [
    "humiDF['Humidity (%)'] = humiDF['Humidity (%)'].interpolate()\n",
    "tempDF['Temperature (°C)'] = tempDF['Temperature (°C)'].interpolate()"
   ]
  },
  {
   "cell_type": "markdown",
   "metadata": {},
   "source": [
    "## 2.3. Load"
   ]
  },
  {
   "cell_type": "code",
   "execution_count": 4,
   "metadata": {},
   "outputs": [],
   "source": [
    "datetemphumiDF = pd.DataFrame()\n",
    "datetemphumiDF = pd.concat([dateDF, humiDF, tempDF], axis=1)"
   ]
  },
  {
   "cell_type": "markdown",
   "metadata": {},
   "source": [
    "# **3. Functions**"
   ]
  },
  {
   "cell_type": "markdown",
   "metadata": {},
   "source": [
    "## 3.1. Functions For Section 4.2.1 Time of day"
   ]
  },
  {
   "cell_type": "markdown",
   "metadata": {},
   "source": [
    "### Filtering Data"
   ]
  },
  {
   "cell_type": "code",
   "execution_count": 5,
   "metadata": {},
   "outputs": [],
   "source": [
    "def getFilteredData(get, indexesOfTargets, datetemphumiDF):\n",
    "    indexesOfTargetsPerDay = []\n",
    "    tempOfTargetsPerDay = []\n",
    "    humiOfTargetsPerDay = []\n",
    "    datesOfTargets = []\n",
    "    minutesOfTargets = []\n",
    "\n",
    "    tempList = []\n",
    "    temperatures = []\n",
    "    humidity = []\n",
    "    datesList = []\n",
    "    prevDate = None\n",
    "\n",
    "    lastIndexFromIndexesOfTargets= indexesOfTargets[-1]\n",
    "    lastElement = datetemphumiDF['Date'][lastIndexFromIndexesOfTargets]\n",
    "    \n",
    "    minutesList = []\n",
    "\n",
    "    for indx in indexesOfTargets:\n",
    "        dateTimeSplit = datetemphumiDF['Date'][indx].split('_')\n",
    "        dateSplit = dateTimeSplit[0].split('/')\n",
    "        date = dateSplit[1]\n",
    "        datetimeFromDF = dateDF['Date'][indx]\n",
    "        timeSplit = dateTimeSplit[1].split(':')\n",
    "        time = timeSplit[1] + \":\" + timeSplit[2]\n",
    "        \n",
    "        if (date != prevDate and prevDate != None) or datetimeFromDF == lastElement:\n",
    "            indexesOfTargetsPerDay.append(tempList)\n",
    "            tempOfTargetsPerDay.append(temperatures)\n",
    "            humiOfTargetsPerDay.append(humidity)\n",
    "            datesOfTargets.append(datesList)\n",
    "            minutesOfTargets.append(minutesList)\n",
    "            \n",
    "            tempList = []\n",
    "            temperatures = []\n",
    "            humidity = []\n",
    "            datesList = []\n",
    "            minutesList = []\n",
    "        \n",
    "        tempList.append(indx)\n",
    "        temperatures.append(datetemphumiDF['Temperature (°C)'][indx])\n",
    "        humidity.append(datetemphumiDF['Humidity (%)'][indx])\n",
    "        datesList.append(datetimeFromDF)\n",
    "        minutesList.append(time)\n",
    "        \n",
    "        prevDate = date\n",
    "    \n",
    "    if get == 'temp':\n",
    "        return zip(tempOfTargetsPerDay, datesOfTargets, minutesOfTargets)\n",
    "    \n",
    "    return zip(humiOfTargetsPerDay, datesOfTargets, minutesOfTargets)"
   ]
  },
  {
   "cell_type": "markdown",
   "metadata": {},
   "source": [
    "### Plotting"
   ]
  },
  {
   "cell_type": "code",
   "execution_count": 6,
   "metadata": {},
   "outputs": [],
   "source": [
    "def plotFilteredData(show, title, filteredData):\n",
    "    plt.figure(figsize=(25,5), dpi=500, layout='tight')\n",
    "\n",
    "    plt.title(title)\n",
    "    plt.ylabel(show)\n",
    "    plt.xlabel(\"DATE AND TIME\")\n",
    "\n",
    "    for item, date, minutes in filteredData:\n",
    "        dateLabel = date[0].split('/')[1]\n",
    "        plt.scatter(date, item, label=f'Oct{dateLabel}')\n",
    "\n",
    "    plt.setp(plt.xticks(fontsize=7))\n",
    "    plt.gcf().autofmt_xdate()\n",
    "    plt.legend()\n",
    "    plt.grid()\n",
    "    plt.show()\n",
    "\n",
    "def plotFilteredDataPerDay(show, title, filteredData):\n",
    "    position = 1\n",
    "    \n",
    "    plt.figure(figsize=(30, 25), dpi=500)\n",
    "\n",
    "    for item, date, minutes in filteredData:\n",
    "        colorsOfDay = ['blue', 'blue', 'blue', 'blue', 'red', 'red', 'red', 'red']\n",
    "        \n",
    "        if len(minutes) < 8:\n",
    "            colorsOfDay = ['blue', 'blue', 'blue', 'blue', 'red', 'red', 'red']\n",
    "            \n",
    "        plt.subplot(4, 4, position)\n",
    "        plt.scatter(minutes, item, color=colorsOfDay)\n",
    "        plt.title(date[0].split('_')[0])\n",
    "        position += 1\n",
    "    \n",
    "        plt.ylabel(show)\n",
    "        plt.xlabel(\"Minutes\")\n",
    "        plt.grid()\n",
    "        \n",
    "    titleSplit = title.split(' ')\n",
    "    colorsForText = ['blue', 'black', 'red']\n",
    "    x = 0.43\n",
    "    \n",
    "    for word, color in zip(titleSplit, colorsForText):\n",
    "        plt.text(x, 0.90, word, fontsize=50, color=color, transform=plt.gcf().transFigure)\n",
    "        x += len(word) / 50\n",
    "    \n",
    "    plt.show()"
   ]
  },
  {
   "cell_type": "markdown",
   "metadata": {},
   "source": [
    "### Central Tendencies"
   ]
  },
  {
   "cell_type": "code",
   "execution_count": 8,
   "metadata": {},
   "outputs": [],
   "source": [
    "def getMean(x):\n",
    "    return np.mean(x)\n",
    "\n",
    "def getMedian(x):\n",
    "    return np.median(x)\n",
    "\n",
    "def getMode(x):\n",
    "    vals, counts = np.unique(x, return_counts=True)\n",
    "    mode = np.argwhere(counts == np.max(counts))\n",
    "    return vals[mode].flatten()[0]\n",
    "\n",
    "def getVariance(x):\n",
    "    return np.var(x)\n",
    "\n",
    "def getStandardDeviation(x):\n",
    "    # standard deviation represents noise and other interference.\n",
    "    #  the standard deviation is not important in itself, but only in comparison to the mean.\n",
    "    return np.std(x)\n",
    "\n",
    "def getSignalToNoiseRatio(mean, std):\n",
    "    return mean / std\n",
    "\n",
    "def getCoefficientOfVariation(mean, std):\n",
    "    #  a signal (or other group of measure values) with a CV of 2%, has an SNR of 50.  Better data means a higher value for the SNR and a lower value for the CV.\n",
    "    return (std / mean) * 100\n",
    "\n",
    "def getTargetData(get, indexesOfTargets, dataFrame):\n",
    "    filteredData = getFilteredData(get, indexesOfTargets, dataFrame)\n",
    "\n",
    "    targetData = []\n",
    "\n",
    "    for values, date, minutes in filteredData:\n",
    "        for item in values:\n",
    "            targetData.append(item)\n",
    "    \n",
    "    return targetData\n",
    "\n",
    "def getStats(get, indexesOfTargets, dataFrame):\n",
    "    if get == 'temp':\n",
    "        temp = getTargetData('temp', indexesOfTargets, dataFrame)\n",
    "\n",
    "        mean = getMean(temp)\n",
    "        median = getMedian(temp)\n",
    "        mode = getMode(temp)\n",
    "        variance = getVariance(temp)\n",
    "        standardDeviation = getStandardDeviation(temp)\n",
    "        snr = getSignalToNoiseRatio(mean, standardDeviation)\n",
    "        cv = getCoefficientOfVariation(mean, standardDeviation)\n",
    "\n",
    "        print(f'Mean = {mean}°C')\n",
    "        print(f'Median = {median}°C')\n",
    "        print(f'Mode = {mode}°C')\n",
    "        print(f'Variance = {variance}')\n",
    "        print(f'Standard Deviation = {standardDeviation}')\n",
    "        print(f'Signal to Noise Ratio = {snr}')\n",
    "        print(f'Coefficient of Variation = {cv}%')\n",
    "    \n",
    "    else:\n",
    "        humi = getTargetData('humi', indexesOfTargets, dataFrame)\n",
    "\n",
    "        mean = getMean(humi)\n",
    "        median = getMedian(humi)\n",
    "        mode = getMode(humi)\n",
    "        variance = getVariance(humi)\n",
    "        standardDeviation = getStandardDeviation(humi)\n",
    "        snr = getSignalToNoiseRatio(mean, standardDeviation)\n",
    "        cv = getCoefficientOfVariation(mean, standardDeviation)\n",
    "\n",
    "        print(f'Mean = {mean}%')\n",
    "        print(f'Median = {median}%')\n",
    "        print(f'Mode = {mode}%')\n",
    "        print(f'Variance = {variance}')\n",
    "        print(f'Standard Deviation = {standardDeviation}')\n",
    "        print(f'Signal to Noise Ratio = {snr}')\n",
    "        print(f'Coefficient of Variation = {cv}%')"
   ]
  },
  {
   "cell_type": "markdown",
   "metadata": {},
   "source": [
    "# **4. Analysis Goals:**"
   ]
  },
  {
   "cell_type": "markdown",
   "metadata": {},
   "source": [
    "## 4.1. What is the periodicity of the data?"
   ]
  },
  {
   "cell_type": "markdown",
   "metadata": {},
   "source": [
    "FFT haha"
   ]
  },
  {
   "cell_type": "code",
   "execution_count": null,
   "metadata": {},
   "outputs": [],
   "source": [
    "# ahaha"
   ]
  },
  {
   "cell_type": "markdown",
   "metadata": {},
   "source": [
    "## 4.2. What are the central tendencies of the data according to time of day, day of week, and in general?"
   ]
  },
  {
   "cell_type": "markdown",
   "metadata": {},
   "source": [
    "### 4.2.1. Time of day"
   ]
  },
  {
   "cell_type": "markdown",
   "metadata": {},
   "source": [
    "5AM To 6AM"
   ]
  },
  {
   "cell_type": "code",
   "execution_count": null,
   "metadata": {},
   "outputs": [],
   "source": [
    "getStats('temp', indexesOf5AMTo6AM, datetemphumiDF)"
   ]
  },
  {
   "cell_type": "code",
   "execution_count": null,
   "metadata": {},
   "outputs": [],
   "source": [
    "plotFilteredData('Temperature', '5AM TO 6AM', getFilteredData('temp', indexesOf5AMTo6AM, datetemphumiDF))\n",
    "plotFilteredDataPerDay('Temperature', '5AM TO 6AM', getFilteredData('temp', indexesOf5AMTo6AM, datetemphumiDF))"
   ]
  },
  {
   "cell_type": "code",
   "execution_count": null,
   "metadata": {},
   "outputs": [],
   "source": [
    "getStats('humi', indexesOf5AMTo6AM, datetemphumiDF)"
   ]
  },
  {
   "cell_type": "code",
   "execution_count": null,
   "metadata": {},
   "outputs": [],
   "source": [
    "plotFilteredData('Humidity', '5AM TO 6AM', getFilteredData('humi', indexesOf5AMTo6AM, datetemphumiDF))\n",
    "plotFilteredDataPerDay('Humidity', '5AM TO 6AM', getFilteredData('humi', indexesOf5AMTo6AM, datetemphumiDF))"
   ]
  },
  {
   "cell_type": "markdown",
   "metadata": {},
   "source": [
    "1PM To 2PM"
   ]
  },
  {
   "cell_type": "code",
   "execution_count": null,
   "metadata": {},
   "outputs": [],
   "source": [
    "getStats('temp', indexesOf1PMTo2PM, datetemphumiDF)"
   ]
  },
  {
   "cell_type": "code",
   "execution_count": null,
   "metadata": {},
   "outputs": [],
   "source": [
    "plotFilteredData('Temperature', '1PM TO 2PM', getFilteredData('temp', indexesOf1PMTo2PM, datetemphumiDF))\n",
    "plotFilteredDataPerDay('Temperature', '1PM TO 2PM', getFilteredData('temp', indexesOf1PMTo2PM, datetemphumiDF))"
   ]
  },
  {
   "cell_type": "code",
   "execution_count": null,
   "metadata": {},
   "outputs": [],
   "source": [
    "getStats('humi', indexesOf1PMTo2PM, datetemphumiDF)"
   ]
  },
  {
   "cell_type": "code",
   "execution_count": null,
   "metadata": {},
   "outputs": [],
   "source": [
    "plotFilteredData('Humidity', '1PM TO 2PM', getFilteredData('humi', indexesOf1PMTo2PM, datetemphumiDF))\n",
    "plotFilteredDataPerDay('Humidity', '1PM TO 2PM', getFilteredData('humi', indexesOf1PMTo2PM, datetemphumiDF))"
   ]
  },
  {
   "cell_type": "markdown",
   "metadata": {},
   "source": [
    "10PM To 11PM"
   ]
  },
  {
   "cell_type": "code",
   "execution_count": null,
   "metadata": {},
   "outputs": [],
   "source": [
    "getStats('temp', indexesOf10PMTo11PM, datetemphumiDF)"
   ]
  },
  {
   "cell_type": "code",
   "execution_count": null,
   "metadata": {},
   "outputs": [],
   "source": [
    "plotFilteredData('Humidity', '10PM TO 11PM', getFilteredData('temp', indexesOf10PMTo11PM, datetemphumiDF))\n",
    "plotFilteredDataPerDay('Humidity', '10PM TO 11PM', getFilteredData('temp', indexesOf10PMTo11PM, datetemphumiDF))"
   ]
  },
  {
   "cell_type": "code",
   "execution_count": null,
   "metadata": {},
   "outputs": [],
   "source": [
    "getStats('humi', indexesOf10PMTo11PM, datetemphumiDF)"
   ]
  },
  {
   "cell_type": "code",
   "execution_count": null,
   "metadata": {},
   "outputs": [],
   "source": [
    "plotFilteredData('Humidity', '10PM TO 11PM', getFilteredData('humi', indexesOf10PMTo11PM, datetemphumiDF))\n",
    "plotFilteredDataPerDay('Humidity', '10PM TO 11PM', getFilteredData('humi', indexesOf10PMTo11PM, datetemphumiDF))"
   ]
  },
  {
   "cell_type": "markdown",
   "metadata": {},
   "source": [
    "### 4.2.2. Day of week"
   ]
  },
  {
   "cell_type": "markdown",
   "metadata": {},
   "source": [
    "Mondays To Thursdays"
   ]
  },
  {
   "cell_type": "code",
   "execution_count": null,
   "metadata": {},
   "outputs": [],
   "source": [
    "# haha"
   ]
  },
  {
   "cell_type": "markdown",
   "metadata": {},
   "source": [
    "Fridays To Sundays"
   ]
  },
  {
   "cell_type": "code",
   "execution_count": null,
   "metadata": {},
   "outputs": [],
   "source": [
    "# haha"
   ]
  },
  {
   "cell_type": "markdown",
   "metadata": {},
   "source": [
    "### 4.2.3 In general"
   ]
  },
  {
   "cell_type": "markdown",
   "metadata": {},
   "source": [
    "Ewan ko"
   ]
  },
  {
   "cell_type": "code",
   "execution_count": null,
   "metadata": {},
   "outputs": [],
   "source": [
    "# haha"
   ]
  },
  {
   "cell_type": "markdown",
   "metadata": {},
   "source": [
    "## 4.3. What patterns arise from the data you are analyzing?"
   ]
  },
  {
   "cell_type": "markdown",
   "metadata": {},
   "source": [
    "### 4.3.1. idk haha"
   ]
  },
  {
   "cell_type": "code",
   "execution_count": null,
   "metadata": {},
   "outputs": [],
   "source": [
    "# hahaha"
   ]
  },
  {
   "cell_type": "markdown",
   "metadata": {},
   "source": [
    "# 5. Conclusion?"
   ]
  },
  {
   "cell_type": "markdown",
   "metadata": {},
   "source": [
    "## 5.1. Haha"
   ]
  },
  {
   "cell_type": "markdown",
   "metadata": {},
   "source": [
    "### 5.1.1. hahaha"
   ]
  }
 ],
 "metadata": {
  "kernelspec": {
   "display_name": "base",
   "language": "python",
   "name": "python3"
  },
  "language_info": {
   "codemirror_mode": {
    "name": "ipython",
    "version": 3
   },
   "file_extension": ".py",
   "mimetype": "text/x-python",
   "name": "python",
   "nbconvert_exporter": "python",
   "pygments_lexer": "ipython3",
   "version": "3.11.4"
  }
 },
 "nbformat": 4,
 "nbformat_minor": 2
}
