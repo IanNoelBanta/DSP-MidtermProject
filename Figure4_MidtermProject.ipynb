{
 "cells": [
  {
   "cell_type": "markdown",
   "metadata": {},
   "source": [
    "# **Digital Signal Processing - Midterm Project**\n",
    "## **Submitted by:**\n",
    "| **Figure4 Members** |\n",
    "|   :----:    |\n",
    "| *Banta, Ian Noel M.*    |\n",
    "| *Pabelico, John Paul B.*  |\n",
    "| *Santander, Mark Adrian P.*   |\n",
    "| *Villasor, Vince Kazer M.*  |"
   ]
  },
  {
   "cell_type": "markdown",
   "metadata": {},
   "source": [
    "# **1. Libraries**"
   ]
  },
  {
   "cell_type": "code",
   "execution_count": 1,
   "metadata": {},
   "outputs": [],
   "source": [
    "import numpy as np\n",
    "import matplotlib.pyplot as plt\n",
    "import pandas as pd\n",
    "\n",
    "# pd.set_option(\"display.max_rows\", None)"
   ]
  },
  {
   "cell_type": "markdown",
   "metadata": {},
   "source": [
    "# **2. Data**"
   ]
  },
  {
   "cell_type": "markdown",
   "metadata": {},
   "source": [
    "## 2.1. Extraction"
   ]
  },
  {
   "cell_type": "code",
   "execution_count": 2,
   "metadata": {},
   "outputs": [],
   "source": [
    "dateDF = pd.read_excel(\"Figure4_MidtermProject_Data.xlsx\", \"Sheet1\", skiprows=0, nrows= 1350, usecols=\"A\")\n",
    "humiDF = pd.read_excel(\"Figure4_MidtermProject_Data.xlsx\", \"Sheet1\", skiprows=0, nrows= 1350, usecols=\"B\")\n",
    "tempDF = pd.read_excel(\"Figure4_MidtermProject_Data.xlsx\", \"Sheet1\", skiprows=0, nrows= 1350, usecols=\"C\")"
   ]
  },
  {
   "cell_type": "markdown",
   "metadata": {},
   "source": [
    "## 2.2. Transformation"
   ]
  },
  {
   "cell_type": "markdown",
   "metadata": {},
   "source": [
    "### 2.2.1. Data Imputation"
   ]
  },
  {
   "cell_type": "code",
   "execution_count": 3,
   "metadata": {},
   "outputs": [],
   "source": [
    "humiDF['Humidity (%)'] = humiDF['Humidity (%)'].interpolate()\n",
    "tempDF['Temperature (°C)'] = tempDF['Temperature (°C)'].interpolate()"
   ]
  },
  {
   "cell_type": "markdown",
   "metadata": {},
   "source": [
    "## 2.3. Load"
   ]
  },
  {
   "cell_type": "code",
   "execution_count": 4,
   "metadata": {},
   "outputs": [],
   "source": [
    "datetemphumiDF = pd.DataFrame()\n",
    "datetemphumiDF = pd.concat([dateDF, humiDF, tempDF], axis=1)"
   ]
  },
  {
   "cell_type": "markdown",
   "metadata": {},
   "source": [
    "# **3. Functions**"
   ]
  },
  {
   "cell_type": "markdown",
   "metadata": {},
   "source": [
    "## 3.1. Functions For Section 4.2.1 Time of day"
   ]
  },
  {
   "cell_type": "markdown",
   "metadata": {},
   "source": [
    "### Filtering Data"
   ]
  },
  {
   "cell_type": "code",
   "execution_count": null,
   "metadata": {},
   "outputs": [],
   "source": [
    "indexesOfLateNight = []\n",
    "indexesOfMorning = []\n",
    "indexesOfAfternoon = []\n",
    "indexesOfEvening = []\n",
    " \n",
    "for i in range(len(datetemphumiDF)):\n",
    "    dateTimeSplit = datetemphumiDF['Date'][i].split('_')\n",
    "\n",
    "    timeSplit = dateTimeSplit[1].split(':')\n",
    "    hour = timeSplit[0]\n",
    "    \n",
    "    # Late Night\n",
    "    if hour in ['00', '01', '02', '03', '04', '05']:\n",
    "        indexesOfLateNight.append(i)\n",
    "        \n",
    "    # Morning\n",
    "    if hour in ['06', '07', '08', '09', '10', '11']:\n",
    "        indexesOfMorning.append(i)\n",
    "    \n",
    "    # # Afternoon\n",
    "    if hour in ['12', '13', '14', '15', '16', '17']:\n",
    "        indexesOfAfternoon.append(i)\n",
    "    \n",
    "    # # Evening\n",
    "    if hour in ['18', '19', '20', '21', '22', '23']:\n",
    "        indexesOfEvening.append(i)"
   ]
  },
  {
   "cell_type": "code",
   "execution_count": 5,
   "metadata": {},
   "outputs": [],
   "source": [
    "def getFilteredData(get, indexesOfTargets, datetemphumiDF):\n",
    "    indexesOfTargetsPerDay = []\n",
    "    tempOfTargetsPerDay = []\n",
    "    humiOfTargetsPerDay = []\n",
    "    datesOfTargets = []\n",
    "    hoursOfTargets = []\n",
    "\n",
    "    tempList = []\n",
    "    temperatures = []\n",
    "    humidity = []\n",
    "    datesList = []\n",
    "    prevDate = None\n",
    "\n",
    "    lastIndexFromIndexesOfTargets= indexesOfTargets[-1]\n",
    "    lastElement = datetemphumiDF['Date'][lastIndexFromIndexesOfTargets]\n",
    "    \n",
    "    hoursList = []\n",
    "\n",
    "    for indx in indexesOfTargets:\n",
    "        dateTimeSplit = datetemphumiDF['Date'][indx].split('_')\n",
    "        dateSplit = dateTimeSplit[0].split('/')\n",
    "        date = dateSplit[1]\n",
    "        datetimeFromDF = dateDF['Date'][indx]\n",
    "        timeSplit = dateTimeSplit[1].split(':')\n",
    "        time = dateTimeSplit[1]\n",
    "        \n",
    "        if (date != prevDate and prevDate != None) or datetimeFromDF == lastElement:\n",
    "            indexesOfTargetsPerDay.append(tempList)\n",
    "            tempOfTargetsPerDay.append(temperatures)\n",
    "            humiOfTargetsPerDay.append(humidity)\n",
    "            datesOfTargets.append(datesList)\n",
    "            hoursOfTargets.append(hoursList)\n",
    "            \n",
    "            tempList = []\n",
    "            temperatures = []\n",
    "            humidity = []\n",
    "            datesList = []\n",
    "            hoursList = []\n",
    "        \n",
    "        tempList.append(indx)\n",
    "        temperatures.append(datetemphumiDF['Temperature (°C)'][indx])\n",
    "        humidity.append(datetemphumiDF['Humidity (%)'][indx])\n",
    "        datesList.append(datetimeFromDF)\n",
    "        hoursList.append(time)\n",
    "        \n",
    "        prevDate = date\n",
    "    \n",
    "    if get == 'temp':\n",
    "        return zip(tempOfTargetsPerDay, datesOfTargets, hoursOfTargets)\n",
    "    \n",
    "    return zip(humiOfTargetsPerDay, datesOfTargets, hoursOfTargets)"
   ]
  },
  {
   "cell_type": "markdown",
   "metadata": {},
   "source": [
    "### Plotting"
   ]
  },
  {
   "cell_type": "code",
   "execution_count": 6,
   "metadata": {},
   "outputs": [],
   "source": [
    "def plotFilteredData(show, title, filteredData):\n",
    "    plt.figure(figsize=(25,5), dpi=500, layout='tight')\n",
    "\n",
    "    plt.title(title)\n",
    "    plt.ylabel(show)\n",
    "    plt.xlabel(\"DATE AND TIME\")\n",
    "\n",
    "    for item, date, minutes in filteredData:\n",
    "        dateLabel = date[0].split('/')[1]\n",
    "        plt.scatter(date, item, label=f'Oct{dateLabel}')\n",
    "\n",
    "    plt.setp(plt.xticks(fontsize=7))\n",
    "    plt.gcf().autofmt_xdate()\n",
    "    plt.legend()\n",
    "    plt.grid()\n",
    "    plt.show()\n",
    "\n",
    "def plotFilteredDataPerDay(show, title, filteredData):\n",
    "    position = 1\n",
    "    \n",
    "    plt.figure(figsize=(50, 50), dpi=500)\n",
    "\n",
    "    for item, date, minutes in filteredData:\n",
    "        plt.subplot(8, 3, position)\n",
    "        plt.scatter(minutes, item, c=item)\n",
    "        plt.title(date[0].split('_')[0])\n",
    "        position += 1\n",
    "\n",
    "        plt.subplots_adjust(wspace=0.1, hspace=0.3)\n",
    "        plt.xticks(rotation=45)\n",
    "        plt.ylabel(show)\n",
    "        plt.xlabel(\"Hour\")\n",
    "        plt.grid()\n",
    "        \n",
    "    plt.figtext(0.47, 0.90, title, fontsize=50)\n",
    "    plt.show()"
   ]
  },
  {
   "cell_type": "markdown",
   "metadata": {},
   "source": [
    "### Central Tendencies"
   ]
  },
  {
   "cell_type": "code",
   "execution_count": 8,
   "metadata": {},
   "outputs": [],
   "source": [
    "def getMean(x):\n",
    "    return np.mean(x)\n",
    "\n",
    "def getMedian(x):\n",
    "    return np.median(x)\n",
    "\n",
    "def getMode(x):\n",
    "    vals, counts = np.unique(x, return_counts=True)\n",
    "    mode = np.argwhere(counts == np.max(counts))\n",
    "    return vals[mode].flatten()[0]\n",
    "\n",
    "def getVariance(x):\n",
    "    return np.var(x)\n",
    "\n",
    "def getStandardDeviation(x):\n",
    "    # standard deviation represents noise and other interference.\n",
    "    #  the standard deviation is not important in itself, but only in comparison to the mean.\n",
    "    return np.std(x)\n",
    "\n",
    "def getSignalToNoiseRatio(mean, std):\n",
    "    return mean / std\n",
    "\n",
    "def getCoefficientOfVariation(mean, std):\n",
    "    #  a signal (or other group of measure values) with a CV of 2%, has an SNR of 50.  Better data means a higher value for the SNR and a lower value for the CV.\n",
    "    return (std / mean) * 100\n",
    "\n",
    "def getTargetData(get, indexesOfTargets, dataFrame):\n",
    "    filteredData = getFilteredData(get, indexesOfTargets, dataFrame)\n",
    "\n",
    "    targetData = []\n",
    "\n",
    "    for values, date, minutes in filteredData:\n",
    "        for item in values:\n",
    "            targetData.append(item)\n",
    "    \n",
    "    return targetData\n",
    "\n",
    "def getStats(get, indexesOfTargets, dataFrame):\n",
    "    if get == 'temp':\n",
    "        temp = getTargetData('temp', indexesOfTargets, dataFrame)\n",
    "\n",
    "        mean = getMean(temp)\n",
    "        median = getMedian(temp)\n",
    "        mode = getMode(temp)\n",
    "        variance = getVariance(temp)\n",
    "        standardDeviation = getStandardDeviation(temp)\n",
    "        snr = getSignalToNoiseRatio(mean, standardDeviation)\n",
    "        cv = getCoefficientOfVariation(mean, standardDeviation)\n",
    "\n",
    "        print(f'Mean = {mean}°C')\n",
    "        print(f'Median = {median}°C')\n",
    "        print(f'Mode = {mode}°C')\n",
    "        print(f'Variance = {variance}')\n",
    "        print(f'Standard Deviation = {standardDeviation}')\n",
    "        print(f'Signal to Noise Ratio = {snr}')\n",
    "        print(f'Coefficient of Variation = {cv}%')\n",
    "    \n",
    "    else:\n",
    "        humi = getTargetData('humi', indexesOfTargets, dataFrame)\n",
    "\n",
    "        mean = getMean(humi)\n",
    "        median = getMedian(humi)\n",
    "        mode = getMode(humi)\n",
    "        variance = getVariance(humi)\n",
    "        standardDeviation = getStandardDeviation(humi)\n",
    "        snr = getSignalToNoiseRatio(mean, standardDeviation)\n",
    "        cv = getCoefficientOfVariation(mean, standardDeviation)\n",
    "\n",
    "        print(f'Mean = {mean}%')\n",
    "        print(f'Median = {median}%')\n",
    "        print(f'Mode = {mode}%')\n",
    "        print(f'Variance = {variance}')\n",
    "        print(f'Standard Deviation = {standardDeviation}')\n",
    "        print(f'Signal to Noise Ratio = {snr}')\n",
    "        print(f'Coefficient of Variation = {cv}%')"
   ]
  },
  {
   "cell_type": "markdown",
   "metadata": {},
   "source": [
    "# **4. Analysis Goals:**"
   ]
  },
  {
   "cell_type": "markdown",
   "metadata": {},
   "source": [
    "## 4.1. What is the periodicity of the data?"
   ]
  },
  {
   "cell_type": "markdown",
   "metadata": {},
   "source": [
    "FFT haha"
   ]
  },
  {
   "cell_type": "code",
   "execution_count": null,
   "metadata": {},
   "outputs": [],
   "source": [
    "# ahaha"
   ]
  },
  {
   "cell_type": "markdown",
   "metadata": {},
   "source": [
    "## 4.2. What are the central tendencies of the data according to time of day, day of week, and in general?"
   ]
  },
  {
   "cell_type": "markdown",
   "metadata": {},
   "source": [
    "### 4.2.1. Time of day"
   ]
  },
  {
   "cell_type": "markdown",
   "metadata": {},
   "source": [
    "LATE NIGHT"
   ]
  },
  {
   "cell_type": "code",
   "execution_count": null,
   "metadata": {},
   "outputs": [],
   "source": [
    "getStats('temp', indexesOfLateNight, datetemphumiDF)"
   ]
  },
  {
   "cell_type": "code",
   "execution_count": null,
   "metadata": {},
   "outputs": [],
   "source": [
    "plotFilteredData('Temperature in °C', 'LATE NIGHT', getFilteredData('temp', indexesOfLateNight, datetemphumiDF))\n",
    "plotFilteredDataPerDay('Temperature in °C', 'LATE NIGHT', getFilteredData('temp', indexesOfLateNight, datetemphumiDF))"
   ]
  },
  {
   "cell_type": "code",
   "execution_count": null,
   "metadata": {},
   "outputs": [],
   "source": [
    "getStats('humi', indexesOfLateNight, datetemphumiDF)"
   ]
  },
  {
   "cell_type": "code",
   "execution_count": null,
   "metadata": {},
   "outputs": [],
   "source": [
    "plotFilteredData('Humidity in %', 'LATE NIGHT', getFilteredData('humi', indexesOfLateNight, datetemphumiDF))\n",
    "plotFilteredDataPerDay('Humidity in %', 'LATE NIGHT', getFilteredData('humi', indexesOfLateNight, datetemphumiDF))"
   ]
  },
  {
   "cell_type": "markdown",
   "metadata": {},
   "source": [
    "MORNING"
   ]
  },
  {
   "cell_type": "code",
   "execution_count": null,
   "metadata": {},
   "outputs": [],
   "source": [
    "getStats('temp', indexesOfMorning, datetemphumiDF)"
   ]
  },
  {
   "cell_type": "code",
   "execution_count": null,
   "metadata": {},
   "outputs": [],
   "source": [
    "plotFilteredData('Temperature in °C', 'MORNING', getFilteredData('temp', indexesOfMorning, datetemphumiDF))\n",
    "plotFilteredDataPerDay('Temperature in °C', 'MORNING', getFilteredData('temp', indexesOfMorning, datetemphumiDF))"
   ]
  },
  {
   "cell_type": "code",
   "execution_count": null,
   "metadata": {},
   "outputs": [],
   "source": [
    "getStats('humi', indexesOfMorning, datetemphumiDF)"
   ]
  },
  {
   "cell_type": "code",
   "execution_count": null,
   "metadata": {},
   "outputs": [],
   "source": [
    "plotFilteredData('Humidity in %', 'MORNING', getFilteredData('humi', indexesOfMorning, datetemphumiDF))\n",
    "plotFilteredDataPerDay('Humidity in %', 'MORNING', getFilteredData('humi', indexesOfMorning, datetemphumiDF))"
   ]
  },
  {
   "cell_type": "markdown",
   "metadata": {},
   "source": [
    "AFTERNOON"
   ]
  },
  {
   "cell_type": "code",
   "execution_count": null,
   "metadata": {},
   "outputs": [],
   "source": [
    "getStats('temp', indexesOfAfternoon, datetemphumiDF)"
   ]
  },
  {
   "cell_type": "code",
   "execution_count": null,
   "metadata": {},
   "outputs": [],
   "source": [
    "plotFilteredData('Temperature in °C', 'AFTERNOON', getFilteredData('temp', indexesOfAfternoon, datetemphumiDF))\n",
    "plotFilteredDataPerDay('Temperature in °C', 'AFTERNOON', getFilteredData('temp', indexesOfAfternoon, datetemphumiDF))"
   ]
  },
  {
   "cell_type": "code",
   "execution_count": null,
   "metadata": {},
   "outputs": [],
   "source": [
    "getStats('humi', indexesOfAfternoon, datetemphumiDF)"
   ]
  },
  {
   "cell_type": "code",
   "execution_count": null,
   "metadata": {},
   "outputs": [],
   "source": [
    "plotFilteredData('Humidity in %', 'AFTERNOON', getFilteredData('humi', indexesOfAfternoon, datetemphumiDF))\n",
    "plotFilteredDataPerDay('Humidity in %', 'AFTERNOON', getFilteredData('humi', indexesOfAfternoon, datetemphumiDF))"
   ]
  },
  {
   "cell_type": "markdown",
   "metadata": {},
   "source": [
    "EVENING"
   ]
  },
  {
   "cell_type": "code",
   "execution_count": null,
   "metadata": {},
   "outputs": [],
   "source": [
    "getStats('temp', indexesOfEvening, datetemphumiDF)"
   ]
  },
  {
   "cell_type": "code",
   "execution_count": null,
   "metadata": {},
   "outputs": [],
   "source": [
    "plotFilteredData('Temperature in °C', 'EVENING', getFilteredData('temp', indexesOfEvening, datetemphumiDF))\n",
    "plotFilteredDataPerDay('Temperature in °C', 'EVENING', getFilteredData('temp', indexesOfEvening, datetemphumiDF))"
   ]
  },
  {
   "cell_type": "code",
   "execution_count": null,
   "metadata": {},
   "outputs": [],
   "source": [
    "getStats('humi', indexesOfEvening, datetemphumiDF)"
   ]
  },
  {
   "cell_type": "code",
   "execution_count": null,
   "metadata": {},
   "outputs": [],
   "source": [
    "plotFilteredData('Humidity in %', 'EVENING', getFilteredData('humi', indexesOfEvening, datetemphumiDF))\n",
    "plotFilteredDataPerDay('Humidity in %', 'EVENING', getFilteredData('humi', indexesOfEvening, datetemphumiDF))"
   ]
  },
  {
   "cell_type": "markdown",
   "metadata": {},
   "source": [
    "### 4.2.2. Day of week"
   ]
  },
  {
   "cell_type": "markdown",
   "metadata": {},
   "source": [
    "Mondays To Thursdays"
   ]
  },
  {
   "cell_type": "code",
   "execution_count": null,
   "metadata": {},
   "outputs": [],
   "source": [
    "# haha"
   ]
  },
  {
   "cell_type": "markdown",
   "metadata": {},
   "source": [
    "Fridays To Sundays"
   ]
  },
  {
   "cell_type": "code",
   "execution_count": null,
   "metadata": {},
   "outputs": [],
   "source": [
    "# haha"
   ]
  },
  {
   "cell_type": "markdown",
   "metadata": {},
   "source": [
    "### 4.2.3 In general"
   ]
  },
  {
   "cell_type": "markdown",
   "metadata": {},
   "source": [
    "Ewan ko"
   ]
  },
  {
   "cell_type": "code",
   "execution_count": null,
   "metadata": {},
   "outputs": [],
   "source": [
    "# haha"
   ]
  },
  {
   "cell_type": "markdown",
   "metadata": {},
   "source": [
    "## 4.3. What patterns arise from the data you are analyzing?"
   ]
  },
  {
   "cell_type": "markdown",
   "metadata": {},
   "source": [
    "### 4.3.1. idk haha"
   ]
  },
  {
   "cell_type": "code",
   "execution_count": null,
   "metadata": {},
   "outputs": [],
   "source": [
    "# hahaha"
   ]
  },
  {
   "cell_type": "markdown",
   "metadata": {},
   "source": [
    "# 5. Conclusion?"
   ]
  },
  {
   "cell_type": "markdown",
   "metadata": {},
   "source": [
    "## 5.1. Haha"
   ]
  },
  {
   "cell_type": "markdown",
   "metadata": {},
   "source": [
    "### 5.1.1. hahaha"
   ]
  }
 ],
 "metadata": {
  "kernelspec": {
   "display_name": "base",
   "language": "python",
   "name": "python3"
  },
  "language_info": {
   "codemirror_mode": {
    "name": "ipython",
    "version": 3
   },
   "file_extension": ".py",
   "mimetype": "text/x-python",
   "name": "python",
   "nbconvert_exporter": "python",
   "pygments_lexer": "ipython3",
   "version": "3.11.4"
  }
 },
 "nbformat": 4,
 "nbformat_minor": 2
}
