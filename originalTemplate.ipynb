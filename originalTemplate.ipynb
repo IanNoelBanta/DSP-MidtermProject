{
 "cells": [
  {
   "cell_type": "code",
   "execution_count": null,
   "metadata": {},
   "outputs": [],
   "source": [
    "import numpy as np\n",
    "import matplotlib.pyplot as plt\n",
    "import pandas as pd\n",
    "\n",
    "#wala lang\n",
    "pd.set_option(\"display.max_rows\", None)"
   ]
  },
  {
   "cell_type": "code",
   "execution_count": null,
   "metadata": {},
   "outputs": [],
   "source": [
    "dateDF = pd.read_excel(\"DSP_Data_with_Butas and date.xlsx\", \"Sheet1\", skiprows=0, nrows= 1350, usecols=\"A\")\n",
    "\n",
    "dateDF['Date'] = dateDF['Date']\n",
    "\n",
    "dateDF"
   ]
  },
  {
   "cell_type": "code",
   "execution_count": null,
   "metadata": {},
   "outputs": [],
   "source": [
    "humiDF = pd.read_excel(\"DSP_Data_with_Butas and date.xlsx\", \"Sheet1\", skiprows=0, nrows= 1350, usecols=\"B\")\n",
    "\n",
    "humiDF['Humidity (%)'] = humiDF['Humidity (%)'].interpolate()\n",
    "\n",
    "humiDF"
   ]
  },
  {
   "cell_type": "code",
   "execution_count": null,
   "metadata": {},
   "outputs": [],
   "source": [
    "tempDF = pd.read_excel(\"DSP_Data_with_Butas and date.xlsx\", \"Sheet1\", skiprows=0, nrows= 1350, usecols=\"C\")\n",
    "\n",
    "tempDF['Temperature (°C)'] = tempDF['Temperature (°C)'].interpolate()\n",
    "\n",
    "tempDF"
   ]
  },
  {
   "cell_type": "code",
   "execution_count": null,
   "metadata": {},
   "outputs": [],
   "source": [
    "datetemphumiDF = pd.DataFrame()\n",
    "\n",
    "datetemphumiDF = pd.concat([dateDF, humiDF, tempDF], axis=1)\n",
    "\n",
    "datetemphumiDF"
   ]
  }
 ],
 "metadata": {
  "kernelspec": {
   "display_name": "base",
   "language": "python",
   "name": "python3"
  },
  "language_info": {
   "codemirror_mode": {
    "name": "ipython",
    "version": 3
   },
   "file_extension": ".py",
   "mimetype": "text/x-python",
   "name": "python",
   "nbconvert_exporter": "python",
   "pygments_lexer": "ipython3",
   "version": "3.11.1"
  }
 },
 "nbformat": 4,
 "nbformat_minor": 2
}
